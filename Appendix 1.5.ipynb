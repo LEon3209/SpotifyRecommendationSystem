{
 "cells": [
  {
   "cell_type": "code",
   "execution_count": 7,
   "metadata": {},
   "outputs": [
    {
     "name": "stdout",
     "output_type": "stream",
     "text": [
      "T-statistic: 8.809016295747869, One-sided P-value: 6.460646304653986e-11\n"
     ]
    }
   ],
   "source": [
    "import pandas as pd\n",
    "from scipy.stats import ttest_1samp\n",
    "\n",
    "# Load the Excel file\n",
    "file_path = 'Appendix 3.2.xlsx'  \n",
    "df = pd.read_excel(file_path)\n",
    "\n",
    "t_statistic, p_value = ttest_1samp(df['Avg.'], 6)\n",
    "\n",
    "# Since it's a one-sided test (testing if the mean is greater than the benchmark)\n",
    "one_sided_p_value = p_value / 2\n",
    "\n",
    "print(f'T-statistic: {t_statistic}, One-sided P-value: {one_sided_p_value}')\n"
   ]
  }
 ],
 "metadata": {
  "kernelspec": {
   "display_name": "base",
   "language": "python",
   "name": "python3"
  },
  "language_info": {
   "codemirror_mode": {
    "name": "ipython",
    "version": 3
   },
   "file_extension": ".py",
   "mimetype": "text/x-python",
   "name": "python",
   "nbconvert_exporter": "python",
   "pygments_lexer": "ipython3",
   "version": "3.9.13"
  }
 },
 "nbformat": 4,
 "nbformat_minor": 2
}
